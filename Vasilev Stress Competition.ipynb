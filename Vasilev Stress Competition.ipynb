{
 "cells": [
  {
   "cell_type": "markdown",
   "id": "48541d9d",
   "metadata": {},
   "source": [
    "## Загрузка данных и библиотек"
   ]
  },
  {
   "cell_type": "code",
   "execution_count": 1,
   "id": "64ae4aae",
   "metadata": {},
   "outputs": [],
   "source": [
    "import pymorphy2\n",
    "import textdistance\n",
    "\n",
    "import pandas as pd\n",
    "import numpy as np\n",
    "import matplotlib.pyplot as plt\n",
    "\n",
    "import lightgbm as lgb\n",
    "from sklearn.model_selection import train_test_split\n",
    "from sklearn.decomposition import TruncatedSVD\n",
    "\n",
    "import torch\n",
    "from torch.utils.data import DataLoader\n",
    "from torch import nn\n",
    "from torch.nn import functional as F\n",
    "from torch import tensor\n",
    "from torch.optim import Adam\n",
    "\n",
    "from tqdm import tqdm\n",
    "from sklearn.metrics import accuracy_score\n",
    "\n",
    "import warnings\n",
    "warnings.filterwarnings('ignore')"
   ]
  },
  {
   "cell_type": "code",
   "execution_count": 2,
   "id": "9eedf81e",
   "metadata": {},
   "outputs": [
    {
     "data": {
      "text/plain": [
       "False"
      ]
     },
     "execution_count": 2,
     "metadata": {},
     "output_type": "execute_result"
    }
   ],
   "source": [
    "torch.cuda.is_available()"
   ]
  },
  {
   "cell_type": "code",
   "execution_count": 3,
   "id": "f8bb13f1",
   "metadata": {},
   "outputs": [
    {
     "name": "stdout",
     "output_type": "stream",
     "text": [
      "Using device: cpu\n"
     ]
    }
   ],
   "source": [
    "device = torch.device('cuda:0' if torch.cuda.is_available() else 'cpu')\n",
    "print('Using device:', device)"
   ]
  },
  {
   "cell_type": "code",
   "execution_count": 4,
   "id": "a523ce66",
   "metadata": {},
   "outputs": [],
   "source": [
    "df = pd.read_csv('train.csv')\n",
    "df_public = pd.read_csv('test.csv')"
   ]
  },
  {
   "cell_type": "markdown",
   "id": "20cad4a9",
   "metadata": {},
   "source": [
    "## Feature Engineering и обучение модели"
   ]
  },
  {
   "cell_type": "markdown",
   "id": "0196b87e",
   "metadata": {},
   "source": [
    "#### Группы фич 1-4"
   ]
  },
  {
   "cell_type": "code",
   "execution_count": 5,
   "id": "e85b7391",
   "metadata": {},
   "outputs": [
    {
     "name": "stdout",
     "output_type": "stream",
     "text": [
      "Wall time: 9.78 s\n"
     ]
    }
   ],
   "source": [
    "%%time\n",
    "\n",
    "morph = pymorphy2.MorphAnalyzer()\n",
    "\n",
    "chars = ['а', 'б', 'в', 'г', 'д', 'е', 'ё', 'ж', 'з', 'и', 'й', 'к', 'л', 'м', 'н', 'о', 'п', 'р', 'с', 'т', 'у', 'ф', 'х', 'ц',\n",
    "         'ч', 'ш', 'щ', 'ъ', 'ы', 'ь', 'э', 'ю', 'я']\n",
    "\n",
    "char_dict = {char:chars.index(char) for char in chars}\n",
    "feature_list = ['pos', 'case', 'gender', 'tense', 'number','person', 'transitivity', 'starts_with', 'ends_with', 'distance']\n",
    "\n",
    "\n",
    "def feature_engineering(word, lemma):\n",
    "    # 1. морфемы слова - часть речи, падеж, род, время, число, лицо, переходность\n",
    "    p = morph.parse(word)[0] \n",
    "    \n",
    "    # 2. one-hot кодирование каждой буквы в слове\n",
    "    char_string = np.zeros((len(chars))) \n",
    "    \n",
    "    for character in word:\n",
    "        char_string[char_dict[character]] += 1 \n",
    "    \n",
    "    # 3. нормализированное расстояние Левенштейна между леммой и словом\n",
    "    distance = textdistance.hamming.normalized_similarity(word, lemma) \n",
    "    \n",
    "    # 4. первая и последняя буквы слова\n",
    "    first_char = word[0] \n",
    "    last_char =  word[-1]\n",
    "        \n",
    "    return [p.tag.POS, p.tag.case, p.tag.gender, p.tag.tense, p.tag.number, p.tag.person, p.tag.transitivity, first_char, \n",
    "            last_char, distance] + list(char_string)\n",
    "\n",
    "\n",
    "df[feature_list+chars] = df.apply(lambda row : feature_engineering(row['word'], row['lemma']), axis = 1).tolist()\n",
    "\n",
    "feature_final_list = feature_list[:]\n",
    "feature_final_list.remove('distance')"
   ]
  },
  {
   "cell_type": "markdown",
   "id": "b1d1b4cc",
   "metadata": {},
   "source": [
    "#### Группа фич 5"
   ]
  },
  {
   "cell_type": "code",
   "execution_count": 6,
   "id": "cd4617d5",
   "metadata": {},
   "outputs": [
    {
     "name": "stdout",
     "output_type": "stream",
     "text": [
      "Wall time: 3.14 s\n"
     ]
    }
   ],
   "source": [
    "%%time\n",
    "\n",
    "# 5. позиция гласной в каждом слове (какой это по счёту слог)\n",
    "vowels = \"аеёиоуюяыэ\"\n",
    "syl_numbers = ['syl_1', 'syl_2', 'syl_3', 'syl_4', 'syl_5', 'syl_6']\n",
    "syl_list=[]\n",
    "\n",
    "for i in vowels:\n",
    "    for j in syl_numbers:\n",
    "        syl_list.append(i+'_'+j)\n",
    "        \n",
    "\n",
    "def syl_listing(word, num_syllables):\n",
    "    syl_dict = {x: 0 for x in syl_list}\n",
    "    syl_count=0\n",
    "    for i in range(len(word)):\n",
    "        if word[i] in vowels:\n",
    "            syl_count+=1\n",
    "            syl_dict[f'{word[i]}_syl_{syl_count}'] = 1\n",
    "    return list(syl_dict.values())\n",
    "\n",
    "df[syl_list] = df.apply(lambda row : syl_listing(row['word'],row['num_syllables']), axis = 1).tolist()\n",
    "df_public[syl_list] = df_public.apply(lambda row : syl_listing(row['word'],row['num_syllables']), axis = 1).tolist()"
   ]
  },
  {
   "cell_type": "markdown",
   "id": "9bb3c912",
   "metadata": {},
   "source": [
    "#### 6-ая фича (количество слогов) и создание таблицы признаков"
   ]
  },
  {
   "cell_type": "code",
   "execution_count": 7,
   "id": "d5984adc",
   "metadata": {},
   "outputs": [],
   "source": [
    "X = pd.concat([pd.get_dummies(df[(feature_final_list+['num_syllables'])]), df[chars], df[syl_list], df['distance']], axis=1).astype('float32')\n",
    "y = df['stress']\n",
    "\n",
    "X_train, X_test, y_train, y_test = train_test_split(X, y, test_size=0.20, random_state=42)"
   ]
  },
  {
   "cell_type": "markdown",
   "id": "f2551459",
   "metadata": {},
   "source": [
    "#### Обучение нейросети"
   ]
  },
  {
   "cell_type": "markdown",
   "id": "cc1417f1",
   "metadata": {},
   "source": [
    "В этом разделе сохранена попытка создать feature extractor для букв и слогов с помощью 1-D сверток и классификатор на основе LSTM."
   ]
  },
  {
   "cell_type": "code",
   "execution_count": 8,
   "id": "9545ba56",
   "metadata": {},
   "outputs": [],
   "source": [
    "max_tokens = 20\n",
    "batch_size = 512\n",
    "\n",
    "def tokenize_words(word):\n",
    "    return [ord(char) for char in word]+([0]*(max_tokens-len(word)))\n",
    "\n",
    "df['tokenized_words'] = df['word'].apply(tokenize_words)\n",
    "df_public['tokenized_words'] = df_public['word'].apply(tokenize_words)\n",
    "\n",
    "dataset = torch.utils.data.TensorDataset(tensor(df['tokenized_words'], dtype=torch.int64), tensor(df['stress']-1, dtype=torch.int64))\n",
    "train_size = int(0.8 * len(dataset))\n",
    "test_size = len(dataset) - train_size\n",
    "train_dataset, test_dataset = torch.utils.data.random_split(dataset, [train_size, test_size])\n",
    "\n",
    "train_loader = DataLoader(train_dataset, batch_size=batch_size, shuffle=True)\n",
    "test_loader = DataLoader(test_dataset, batch_size=batch_size, shuffle=True)\n",
    "full_loader = DataLoader(dataset, batch_size=batch_size, shuffle=True)\n",
    "final_loader = DataLoader(torch.tensor(df_public['tokenized_words'], dtype=torch.int32), batch_size=batch_size)"
   ]
  },
  {
   "cell_type": "code",
   "execution_count": 9,
   "id": "af7fb692",
   "metadata": {},
   "outputs": [],
   "source": [
    "class StressClassifier(nn.Module):\n",
    "    out_channels = 2\n",
    "    hidden_layers = 100\n",
    "    \n",
    "    def __init__(self):\n",
    "        super(StressClassifier, self).__init__()\n",
    "        self.conv1 = nn.Conv1d(1, self.out_channels, 1)\n",
    "        self.conv2 = nn.Conv1d(self.out_channels, 1, kernel_size=3)\n",
    "        self.lstm = nn.LSTM(18, self.hidden_layers, bidirectional=True, batch_first=True)\n",
    "        self.fc1 = nn.Linear(self.hidden_layers*2, 64)\n",
    "        self.fc2 = nn.Linear(64, 6)\n",
    "\n",
    "    def forward(self, X_batch):\n",
    "        x = X_batch.reshape(len(X_batch), 1, max_tokens)\n",
    "        x = F.relu(self.conv1(x))\n",
    "        x = F.relu(self.conv2(x))\n",
    "        x, _ = self.lstm(x)\n",
    "        x = x.view(len(X_batch), self.hidden_layers*2)\n",
    "        x = F.relu(self.fc1(x))\n",
    "        x = self.fc2(x)\n",
    "        return x"
   ]
  },
  {
   "cell_type": "code",
   "execution_count": 10,
   "id": "d19604f6",
   "metadata": {},
   "outputs": [],
   "source": [
    "def CalcValLossAndAccuracy(model, loss_fn, val_loader):\n",
    "    with torch.no_grad():\n",
    "        Y_shuffled, Y_preds, losses = [],[],[]\n",
    "        for X, Y in val_loader:\n",
    "            preds = model(X.float())\n",
    "            loss = loss_fn(preds, Y)\n",
    "            losses.append(loss.item())\n",
    "\n",
    "            Y_shuffled.append(Y)\n",
    "            Y_preds.append(preds.argmax(dim=-1))\n",
    "\n",
    "        Y_shuffled = torch.cat(Y_shuffled)\n",
    "        Y_preds = torch.cat(Y_preds)\n",
    "\n",
    "        print(\"Valid Loss : {:.3f}\".format(torch.tensor(losses).mean()))\n",
    "        print(\"Valid Acc  : {:.3f}\".format(accuracy_score(Y_shuffled.detach().numpy(), Y_preds.detach().numpy())))\n",
    "\n",
    "\n",
    "def TrainModel(model, loss_fn, optimizer, train_loader, val_loader, epochs=10):\n",
    "    for i in range(1, epochs+1):\n",
    "        losses = []\n",
    "        for X, Y in tqdm(train_loader):\n",
    "            Y_preds = model(X.float())\n",
    "            \n",
    "            loss = loss_fn(Y_preds, Y)\n",
    "            losses.append(loss.item())\n",
    "\n",
    "            optimizer.zero_grad()\n",
    "            loss.backward()\n",
    "            optimizer.step()\n",
    "        print(\"Train Loss : {:.3f}\".format(torch.tensor(losses).mean()))\n",
    "        CalcValLossAndAccuracy(model, loss_fn, val_loader)"
   ]
  },
  {
   "cell_type": "code",
   "execution_count": 11,
   "id": "2ce184fc",
   "metadata": {},
   "outputs": [
    {
     "name": "stderr",
     "output_type": "stream",
     "text": [
      "100%|██████████| 100/100 [00:01<00:00, 54.46it/s]\n"
     ]
    },
    {
     "name": "stdout",
     "output_type": "stream",
     "text": [
      "Train Loss : 1.776\n",
      "Valid Loss : 1.757\n",
      "Valid Acc  : 0.292\n"
     ]
    },
    {
     "name": "stderr",
     "output_type": "stream",
     "text": [
      "100%|██████████| 100/100 [00:01<00:00, 57.89it/s]\n"
     ]
    },
    {
     "name": "stdout",
     "output_type": "stream",
     "text": [
      "Train Loss : 1.740\n",
      "Valid Loss : 1.721\n",
      "Valid Acc  : 0.356\n"
     ]
    },
    {
     "name": "stderr",
     "output_type": "stream",
     "text": [
      "100%|██████████| 100/100 [00:01<00:00, 57.24it/s]\n"
     ]
    },
    {
     "name": "stdout",
     "output_type": "stream",
     "text": [
      "Train Loss : 1.704\n",
      "Valid Loss : 1.685\n",
      "Valid Acc  : 0.399\n"
     ]
    },
    {
     "name": "stderr",
     "output_type": "stream",
     "text": [
      "100%|██████████| 100/100 [00:01<00:00, 54.30it/s]\n"
     ]
    },
    {
     "name": "stdout",
     "output_type": "stream",
     "text": [
      "Train Loss : 1.668\n",
      "Valid Loss : 1.649\n",
      "Valid Acc  : 0.461\n"
     ]
    },
    {
     "name": "stderr",
     "output_type": "stream",
     "text": [
      "100%|██████████| 100/100 [00:01<00:00, 57.14it/s]\n"
     ]
    },
    {
     "name": "stdout",
     "output_type": "stream",
     "text": [
      "Train Loss : 1.631\n",
      "Valid Loss : 1.612\n",
      "Valid Acc  : 0.462\n"
     ]
    },
    {
     "name": "stderr",
     "output_type": "stream",
     "text": [
      "100%|██████████| 100/100 [00:01<00:00, 58.17it/s]\n"
     ]
    },
    {
     "name": "stdout",
     "output_type": "stream",
     "text": [
      "Train Loss : 1.595\n",
      "Valid Loss : 1.576\n",
      "Valid Acc  : 0.470\n"
     ]
    },
    {
     "name": "stderr",
     "output_type": "stream",
     "text": [
      "100%|██████████| 100/100 [00:01<00:00, 58.44it/s]\n"
     ]
    },
    {
     "name": "stdout",
     "output_type": "stream",
     "text": [
      "Train Loss : 1.557\n",
      "Valid Loss : 1.537\n",
      "Valid Acc  : 0.472\n"
     ]
    },
    {
     "name": "stderr",
     "output_type": "stream",
     "text": [
      "100%|██████████| 100/100 [00:01<00:00, 59.01it/s]\n"
     ]
    },
    {
     "name": "stdout",
     "output_type": "stream",
     "text": [
      "Train Loss : 1.518\n",
      "Valid Loss : 1.498\n",
      "Valid Acc  : 0.474\n"
     ]
    },
    {
     "name": "stderr",
     "output_type": "stream",
     "text": [
      "100%|██████████| 100/100 [00:01<00:00, 57.03it/s]\n"
     ]
    },
    {
     "name": "stdout",
     "output_type": "stream",
     "text": [
      "Train Loss : 1.480\n",
      "Valid Loss : 1.461\n",
      "Valid Acc  : 0.477\n"
     ]
    },
    {
     "name": "stderr",
     "output_type": "stream",
     "text": [
      "100%|██████████| 100/100 [00:01<00:00, 57.71it/s]\n"
     ]
    },
    {
     "name": "stdout",
     "output_type": "stream",
     "text": [
      "Train Loss : 1.443\n",
      "Valid Loss : 1.424\n",
      "Valid Acc  : 0.477\n"
     ]
    },
    {
     "name": "stderr",
     "output_type": "stream",
     "text": [
      "100%|██████████| 100/100 [00:01<00:00, 60.44it/s]\n"
     ]
    },
    {
     "name": "stdout",
     "output_type": "stream",
     "text": [
      "Train Loss : 1.406\n",
      "Valid Loss : 1.387\n",
      "Valid Acc  : 0.478\n"
     ]
    },
    {
     "name": "stderr",
     "output_type": "stream",
     "text": [
      "100%|██████████| 100/100 [00:01<00:00, 62.07it/s]\n"
     ]
    },
    {
     "name": "stdout",
     "output_type": "stream",
     "text": [
      "Train Loss : 1.368\n",
      "Valid Loss : 1.351\n",
      "Valid Acc  : 0.478\n"
     ]
    },
    {
     "name": "stderr",
     "output_type": "stream",
     "text": [
      "100%|██████████| 100/100 [00:01<00:00, 98.20it/s]\n"
     ]
    },
    {
     "name": "stdout",
     "output_type": "stream",
     "text": [
      "Train Loss : 1.333\n",
      "Valid Loss : 1.318\n",
      "Valid Acc  : 0.478\n"
     ]
    },
    {
     "name": "stderr",
     "output_type": "stream",
     "text": [
      "100%|██████████| 100/100 [00:01<00:00, 93.01it/s]\n"
     ]
    },
    {
     "name": "stdout",
     "output_type": "stream",
     "text": [
      "Train Loss : 1.302\n",
      "Valid Loss : 1.287\n",
      "Valid Acc  : 0.478\n"
     ]
    },
    {
     "name": "stderr",
     "output_type": "stream",
     "text": [
      "100%|██████████| 100/100 [00:01<00:00, 99.05it/s]\n"
     ]
    },
    {
     "name": "stdout",
     "output_type": "stream",
     "text": [
      "Train Loss : 1.272\n",
      "Valid Loss : 1.260\n",
      "Valid Acc  : 0.478\n"
     ]
    },
    {
     "name": "stderr",
     "output_type": "stream",
     "text": [
      "100%|██████████| 100/100 [00:01<00:00, 99.18it/s]\n"
     ]
    },
    {
     "name": "stdout",
     "output_type": "stream",
     "text": [
      "Train Loss : 1.246\n",
      "Valid Loss : 1.235\n",
      "Valid Acc  : 0.478\n"
     ]
    },
    {
     "name": "stderr",
     "output_type": "stream",
     "text": [
      "100%|██████████| 100/100 [00:01<00:00, 86.70it/s]\n"
     ]
    },
    {
     "name": "stdout",
     "output_type": "stream",
     "text": [
      "Train Loss : 1.223\n",
      "Valid Loss : 1.213\n",
      "Valid Acc  : 0.478\n"
     ]
    },
    {
     "name": "stderr",
     "output_type": "stream",
     "text": [
      "100%|██████████| 100/100 [00:01<00:00, 92.80it/s]\n"
     ]
    },
    {
     "name": "stdout",
     "output_type": "stream",
     "text": [
      "Train Loss : 1.203\n",
      "Valid Loss : 1.194\n",
      "Valid Acc  : 0.489\n"
     ]
    },
    {
     "name": "stderr",
     "output_type": "stream",
     "text": [
      "100%|██████████| 100/100 [00:01<00:00, 96.91it/s]\n"
     ]
    },
    {
     "name": "stdout",
     "output_type": "stream",
     "text": [
      "Train Loss : 1.186\n",
      "Valid Loss : 1.177\n",
      "Valid Acc  : 0.489\n"
     ]
    },
    {
     "name": "stderr",
     "output_type": "stream",
     "text": [
      "100%|██████████| 100/100 [00:01<00:00, 94.91it/s]\n"
     ]
    },
    {
     "name": "stdout",
     "output_type": "stream",
     "text": [
      "Train Loss : 1.169\n",
      "Valid Loss : 1.163\n",
      "Valid Acc  : 0.489\n"
     ]
    }
   ],
   "source": [
    "epochs = 20\n",
    "learning_rate = 1e-5\n",
    "\n",
    "loss_fn = nn.CrossEntropyLoss()\n",
    "conv_classifier = StressClassifier()\n",
    "optimizer = Adam(conv_classifier.parameters(), lr=learning_rate)\n",
    "\n",
    "TrainModel(conv_classifier, loss_fn, optimizer, train_loader, test_loader, epochs)"
   ]
  },
  {
   "cell_type": "markdown",
   "id": "ea21983e",
   "metadata": {},
   "source": [
    "Итог: попытка неудачная. Не результат не удалось улучшить ни удалением сверток, ни удалением LSTM, ни представлением букв с помощью Positional Encoding. Значит, нужно обратиться к классическим моделям."
   ]
  },
  {
   "cell_type": "markdown",
   "id": "ba0454c5",
   "metadata": {},
   "source": [
    "#### Обучение классификатора"
   ]
  },
  {
   "cell_type": "code",
   "execution_count": 14,
   "id": "2659570b",
   "metadata": {},
   "outputs": [
    {
     "name": "stdout",
     "output_type": "stream",
     "text": [
      "[LightGBM] [Warning] boosting is set=gbdt, boosting_type=gbdt will be ignored. Current value: boosting=gbdt\n",
      "[LightGBM] [Warning] lambda_l2 is set=1, reg_lambda=0.0 will be ignored. Current value: lambda_l2=1\n",
      "Wall time: 10.5 s\n"
     ]
    },
    {
     "data": {
      "text/plain": [
       "LGBMClassifier(boosting='gbdt', lambda_l2=1, num_leaves=2048)"
      ]
     },
     "execution_count": 14,
     "metadata": {},
     "output_type": "execute_result"
    }
   ],
   "source": [
    "%%time\n",
    "\n",
    "clf = lgb.LGBMClassifier(num_leaves=2**11, boosting='gbdt', lambda_l2=1)\n",
    "clf.fit(X_train, y_train)"
   ]
  },
  {
   "cell_type": "code",
   "execution_count": 15,
   "id": "cb9514d7",
   "metadata": {},
   "outputs": [
    {
     "name": "stdout",
     "output_type": "stream",
     "text": [
      "Wall time: 95.1 ms\n"
     ]
    }
   ],
   "source": [
    "%%time\n",
    "\n",
    "preds = clf.predict(X_test)"
   ]
  },
  {
   "cell_type": "code",
   "execution_count": 16,
   "id": "f5227de4",
   "metadata": {},
   "outputs": [
    {
     "name": "stdout",
     "output_type": "stream",
     "text": [
      "Точность модели: 0.8495428751576293\n"
     ]
    }
   ],
   "source": [
    "accuracy = (y_test==preds).sum()/len(y_test)\n",
    "print(f'Точность модели: {accuracy}')"
   ]
  },
  {
   "cell_type": "markdown",
   "id": "9d68e300",
   "metadata": {},
   "source": [
    "##  Блок анализа результатов"
   ]
  },
  {
   "cell_type": "markdown",
   "id": "c10ebbb7",
   "metadata": {},
   "source": [
    "#### Графическое представление фич с помощью LSA"
   ]
  },
  {
   "cell_type": "code",
   "execution_count": 17,
   "id": "30f6f75d",
   "metadata": {},
   "outputs": [
    {
     "data": {
      "text/plain": [
       "<matplotlib.collections.PathCollection at 0x237e0daca90>"
      ]
     },
     "execution_count": 17,
     "metadata": {},
     "output_type": "execute_result"
    },
    {
     "data": {
      "image/png": "[encoded data removed]",
      "text/plain": [
       "<Figure size 640x480 with 1 Axes>"
      ]
     },
     "metadata": {},
     "output_type": "display_data"
    }
   ],
   "source": [
    "X_tsvd = TruncatedSVD(2).fit_transform(X.values)\n",
    "plt.scatter(X_tsvd[:, 0], X_tsvd[:, 1], cmap='rainbow', c=y)"
   ]
  },
  {
   "cell_type": "markdown",
   "id": "5fea2dcb",
   "metadata": {},
   "source": [
    "В анализе всего две компонентны, так что график не слишком информативный, но все равно дает представление о том, как фичи представляют выборку."
   ]
  },
  {
   "cell_type": "markdown",
   "id": "cda56374",
   "metadata": {},
   "source": [
    "#### Самые важные фичи"
   ]
  },
  {
   "cell_type": "code",
   "execution_count": 18,
   "id": "e07e4478",
   "metadata": {},
   "outputs": [
    {
     "data": {
      "text/html": [
       "<div>\n",
       "<style scoped>\n",
       "    .dataframe tbody tr th:only-of-type {\n",
       "        vertical-align: middle;\n",
       "    }\n",
       "\n",
       "    .dataframe tbody tr th {\n",
       "        vertical-align: top;\n",
       "    }\n",
       "\n",
       "    .dataframe thead th {\n",
       "        text-align: right;\n",
       "    }\n",
       "</style>\n",
       "<table border=\"1\" class=\"dataframe\">\n",
       "  <thead>\n",
       "    <tr style=\"text-align: right;\">\n",
       "      <th></th>\n",
       "      <th>195</th>\n",
       "      <th>117</th>\n",
       "      <th>116</th>\n",
       "      <th>107</th>\n",
       "      <th>119</th>\n",
       "      <th>102</th>\n",
       "      <th>121</th>\n",
       "      <th>120</th>\n",
       "      <th>111</th>\n",
       "      <th>114</th>\n",
       "      <th>...</th>\n",
       "      <th>103</th>\n",
       "      <th>110</th>\n",
       "      <th>27</th>\n",
       "      <th>135</th>\n",
       "      <th>142</th>\n",
       "      <th>105</th>\n",
       "      <th>126</th>\n",
       "      <th>136</th>\n",
       "      <th>25</th>\n",
       "      <th>9</th>\n",
       "    </tr>\n",
       "  </thead>\n",
       "  <tbody>\n",
       "    <tr>\n",
       "      <th>0</th>\n",
       "      <td>distance</td>\n",
       "      <td>о</td>\n",
       "      <td>н</td>\n",
       "      <td>е</td>\n",
       "      <td>р</td>\n",
       "      <td>а</td>\n",
       "      <td>т</td>\n",
       "      <td>с</td>\n",
       "      <td>и</td>\n",
       "      <td>л</td>\n",
       "      <td>...</td>\n",
       "      <td>б</td>\n",
       "      <td>з</td>\n",
       "      <td>gender_femn</td>\n",
       "      <td>а_syl_1</td>\n",
       "      <td>е_syl_2</td>\n",
       "      <td>г</td>\n",
       "      <td>ч</td>\n",
       "      <td>а_syl_2</td>\n",
       "      <td>case_nomn</td>\n",
       "      <td>pos_NOUN</td>\n",
       "    </tr>\n",
       "    <tr>\n",
       "      <th>1</th>\n",
       "      <td>79089</td>\n",
       "      <td>16210</td>\n",
       "      <td>14718</td>\n",
       "      <td>14005</td>\n",
       "      <td>13256</td>\n",
       "      <td>12554</td>\n",
       "      <td>11889</td>\n",
       "      <td>11720</td>\n",
       "      <td>11133</td>\n",
       "      <td>10159</td>\n",
       "      <td>...</td>\n",
       "      <td>3020</td>\n",
       "      <td>3008</td>\n",
       "      <td>2930</td>\n",
       "      <td>2926</td>\n",
       "      <td>2909</td>\n",
       "      <td>2892</td>\n",
       "      <td>2615</td>\n",
       "      <td>2562</td>\n",
       "      <td>2436</td>\n",
       "      <td>2389</td>\n",
       "    </tr>\n",
       "  </tbody>\n",
       "</table>\n",
       "<p>2 rows × 30 columns</p>\n",
       "</div>"
      ],
      "text/plain": [
       "        195    117    116    107    119    102    121    120    111    114  \\\n",
       "0  distance      о      н      е      р      а      т      с      и      л   \n",
       "1     79089  16210  14718  14005  13256  12554  11889  11720  11133  10159   \n",
       "\n",
       "   ...   103   110          27       135      142   105   126      136  \\\n",
       "0  ...     б     з  gender_femn  а_syl_1  е_syl_2     г     ч  а_syl_2   \n",
       "1  ...  3020  3008         2930     2926     2909  2892  2615     2562   \n",
       "\n",
       "         25        9    \n",
       "0  case_nomn  pos_NOUN  \n",
       "1       2436      2389  \n",
       "\n",
       "[2 rows x 30 columns]"
      ]
     },
     "execution_count": 18,
     "metadata": {},
     "output_type": "execute_result"
    }
   ],
   "source": [
    "df_feat = pd.DataFrame([X_train.columns, clf.feature_importances_]).T\n",
    "df_feat[df_feat[1]!=0].sort_values(by=1, ascending=False).head(30).T"
   ]
  },
  {
   "cell_type": "markdown",
   "id": "243de6d3",
   "metadata": {},
   "source": [
    "Итог: все признаки вносят свой вклад, при этом наиболее влиятельным является расстояние Левенштейна."
   ]
  },
  {
   "cell_type": "markdown",
   "id": "6e8cafeb",
   "metadata": {},
   "source": [
    "#### Неиспользованные фичи"
   ]
  },
  {
   "cell_type": "code",
   "execution_count": 19,
   "id": "2e93aa11",
   "metadata": {},
   "outputs": [
    {
     "data": {
      "text/html": [
       "<div>\n",
       "<style scoped>\n",
       "    .dataframe tbody tr th:only-of-type {\n",
       "        vertical-align: middle;\n",
       "    }\n",
       "\n",
       "    .dataframe tbody tr th {\n",
       "        vertical-align: top;\n",
       "    }\n",
       "\n",
       "    .dataframe thead th {\n",
       "        text-align: right;\n",
       "    }\n",
       "</style>\n",
       "<table border=\"1\" class=\"dataframe\">\n",
       "  <thead>\n",
       "    <tr style=\"text-align: right;\">\n",
       "      <th></th>\n",
       "      <th>5</th>\n",
       "      <th>10</th>\n",
       "      <th>12</th>\n",
       "      <th>13</th>\n",
       "      <th>14</th>\n",
       "      <th>21</th>\n",
       "      <th>23</th>\n",
       "      <th>26</th>\n",
       "      <th>49</th>\n",
       "      <th>69</th>\n",
       "      <th>95</th>\n",
       "      <th>98</th>\n",
       "      <th>101</th>\n",
       "      <th>150</th>\n",
       "      <th>151</th>\n",
       "      <th>152</th>\n",
       "      <th>191</th>\n",
       "      <th>192</th>\n",
       "      <th>193</th>\n",
       "      <th>194</th>\n",
       "    </tr>\n",
       "  </thead>\n",
       "  <tbody>\n",
       "    <tr>\n",
       "      <th>0</th>\n",
       "      <td>pos_CONJ</td>\n",
       "      <td>pos_NPRO</td>\n",
       "      <td>pos_PRCL</td>\n",
       "      <td>pos_PRED</td>\n",
       "      <td>pos_PREP</td>\n",
       "      <td>case_gen2</td>\n",
       "      <td>case_loc2</td>\n",
       "      <td>case_voct</td>\n",
       "      <td>starts_with_й</td>\n",
       "      <td>starts_with_ё</td>\n",
       "      <td>ends_with_щ</td>\n",
       "      <td>ends_with_э</td>\n",
       "      <td>ends_with_ё</td>\n",
       "      <td>ё_syl_4</td>\n",
       "      <td>ё_syl_5</td>\n",
       "      <td>ё_syl_6</td>\n",
       "      <td>э_syl_3</td>\n",
       "      <td>э_syl_4</td>\n",
       "      <td>э_syl_5</td>\n",
       "      <td>э_syl_6</td>\n",
       "    </tr>\n",
       "    <tr>\n",
       "      <th>1</th>\n",
       "      <td>0</td>\n",
       "      <td>0</td>\n",
       "      <td>0</td>\n",
       "      <td>0</td>\n",
       "      <td>0</td>\n",
       "      <td>0</td>\n",
       "      <td>0</td>\n",
       "      <td>0</td>\n",
       "      <td>0</td>\n",
       "      <td>0</td>\n",
       "      <td>0</td>\n",
       "      <td>0</td>\n",
       "      <td>0</td>\n",
       "      <td>0</td>\n",
       "      <td>0</td>\n",
       "      <td>0</td>\n",
       "      <td>0</td>\n",
       "      <td>0</td>\n",
       "      <td>0</td>\n",
       "      <td>0</td>\n",
       "    </tr>\n",
       "  </tbody>\n",
       "</table>\n",
       "</div>"
      ],
      "text/plain": [
       "        5         10        12        13        14         21         23   \\\n",
       "0  pos_CONJ  pos_NPRO  pos_PRCL  pos_PRED  pos_PREP  case_gen2  case_loc2   \n",
       "1         0         0         0         0         0          0          0   \n",
       "\n",
       "         26             49             69           95           98   \\\n",
       "0  case_voct  starts_with_й  starts_with_ё  ends_with_щ  ends_with_э   \n",
       "1          0              0              0            0            0   \n",
       "\n",
       "           101      150      151      152      191      192      193      194  \n",
       "0  ends_with_ё  ё_syl_4  ё_syl_5  ё_syl_6  э_syl_3  э_syl_4  э_syl_5  э_syl_6  \n",
       "1            0        0        0        0        0        0        0        0  "
      ]
     },
     "execution_count": 19,
     "metadata": {},
     "output_type": "execute_result"
    }
   ],
   "source": [
    "df_feat[df_feat[1]==0].T"
   ]
  },
  {
   "cell_type": "markdown",
   "id": "cd096e5e",
   "metadata": {},
   "source": [
    "#### процент ошибок на каждом количестве слогов"
   ]
  },
  {
   "cell_type": "code",
   "execution_count": 20,
   "id": "b8202fd6",
   "metadata": {
    "scrolled": true
   },
   "outputs": [
    {
     "data": {
      "text/plain": [
       "1         NaN\n",
       "2    0.179731\n",
       "3    0.176485\n",
       "4    0.139321\n",
       "5    0.116745\n",
       "6    0.098495\n",
       "Name: num_syllables, dtype: float64"
      ]
     },
     "execution_count": 20,
     "metadata": {},
     "output_type": "execute_result"
    }
   ],
   "source": [
    "df = df[df['id'].isin(X_test.sort_index().index)]\n",
    "df['pred_stress'] = clf.predict(X_test.sort_index())\n",
    "df[df['pred_stress']!=df['stress']]['num_syllables'].value_counts()/df['num_syllables'].value_counts()"
   ]
  },
  {
   "cell_type": "markdown",
   "id": "78c98b3d",
   "metadata": {},
   "source": [
    "Больше всего ошибок на словах с 2, 3 и 4 слогами; эти слова наиболее часто встречаются как в выборке, так и в языке. "
   ]
  },
  {
   "cell_type": "markdown",
   "id": "5c758595",
   "metadata": {},
   "source": [
    "## Обучение финального классификатора и предсказание для контрольной выборки"
   ]
  },
  {
   "cell_type": "code",
   "execution_count": 21,
   "id": "c9447b6f",
   "metadata": {},
   "outputs": [
    {
     "name": "stdout",
     "output_type": "stream",
     "text": [
      "[LightGBM] [Warning] boosting is set=gbdt, boosting_type=gbdt will be ignored. Current value: boosting=gbdt\n",
      "[LightGBM] [Warning] lambda_l2 is set=1, reg_lambda=0.0 will be ignored. Current value: lambda_l2=1\n",
      "Wall time: 12.4 s\n"
     ]
    },
    {
     "data": {
      "text/plain": [
       "LGBMClassifier(boosting='gbdt', lambda_l2=1, num_leaves=2048)"
      ]
     },
     "execution_count": 21,
     "metadata": {},
     "output_type": "execute_result"
    }
   ],
   "source": [
    "%%time\n",
    "\n",
    "clf.fit(X, y)"
   ]
  },
  {
   "cell_type": "code",
   "execution_count": 22,
   "id": "b135ecb5",
   "metadata": {},
   "outputs": [],
   "source": [
    "df_public[feature_list+chars] = df_public.apply(lambda row : feature_engineering(row['word'], row['lemma']), axis = 1).tolist()\n",
    "X_public = pd.concat([pd.get_dummies(df_public[(feature_final_list+['num_syllables'])]), df_public[chars], df_public[syl_list], df_public['distance']], axis=1).astype('float32')"
   ]
  },
  {
   "cell_type": "code",
   "execution_count": 23,
   "id": "760055b9",
   "metadata": {},
   "outputs": [
    {
     "name": "stdout",
     "output_type": "stream",
     "text": [
      "Wall time: 295 ms\n"
     ]
    }
   ],
   "source": [
    "%%time\n",
    "\n",
    "df_public['stress'] = clf.predict(X_public)\n",
    "df_public[['id', 'stress']].to_csv('output.csv', index=False)"
   ]
  }
 ],
 "metadata": {
  "kernelspec": {
   "display_name": "Python 3 (ipykernel)",
   "language": "python",
   "name": "python3"
  },
  "language_info": {
   "codemirror_mode": {
    "name": "ipython",
    "version": 3
   },
   "file_extension": ".py",
   "mimetype": "text/x-python",
   "name": "python",
   "nbconvert_exporter": "python",
   "pygments_lexer": "ipython3",
   "version": "3.9.13"
  }
 },
 "nbformat": 4,
 "nbformat_minor": 5
}
